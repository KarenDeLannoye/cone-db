{
 "cells": [
  {
   "cell_type": "markdown",
   "id": "b6f31837",
   "metadata": {},
   "source": [
    "# Graphing cone calorimeter data\n",
    "Note: for best results, view this notebook in VSCode with the Jupyter extension installed, not JupyterLab."
   ]
  },
  {
   "cell_type": "code",
   "execution_count": 1,
   "id": "0470f63e-fe41-4874-81cc-9df19a8563bc",
   "metadata": {
    "scrolled": true
   },
   "outputs": [],
   "source": [
    "# install dependencies\n",
    "# %pip install pandas\n",
    "# %pip install plotly\n",
    "# %pip install scipy\n",
    "# %pip install ipywidgets"
   ]
  },
  {
   "cell_type": "code",
   "execution_count": 2,
   "id": "b981e5d8-b8a6-4c7c-9d00-3f0351c14de2",
   "metadata": {
    "jupyter": {
     "source_hidden": true
    }
   },
   "outputs": [],
   "source": [
    "import pandas as pd\n",
    "import scipy\n",
    "\n",
    "import json\n",
    "from pathlib import Path\n",
    "from datetime import date\n",
    "\n",
    "import ipywidgets as widgets\n",
    "from IPython.display import display, clear_output\n",
    "\n",
    "import plotly.express as px\n",
    "import plotly.graph_objects as go\n",
    "from plotly.subplots import make_subplots\n",
    "\n",
    "from utils import colorize"
   ]
  },
  {
   "cell_type": "markdown",
   "id": "8a09f490",
   "metadata": {},
   "source": [
    "## Same file"
   ]
  },
  {
   "cell_type": "code",
   "execution_count": 70,
   "id": "15ee8501-9099-4366-b1df-8cc72f148d85",
   "metadata": {},
   "outputs": [
    {
     "data": {
      "application/vnd.jupyter.widget-view+json": {
       "model_id": "340ce228d44a487c967756417302e54b",
       "version_major": 2,
       "version_minor": 0
      },
      "text/plain": [
       "VBox(children=(Dropdown(description='Source:', options=(WindowsPath('FAA'), WindowsPath('FTT'), WindowsPath('M…"
      ]
     },
     "metadata": {},
     "output_type": "display_data"
    },
    {
     "data": {
      "application/vnd.plotly.v1+json": {
       "config": {
        "plotlyServerURL": "https://plot.ly"
       },
       "data": [],
       "layout": {
        "template": {
         "data": {
          "bar": [
           {
            "error_x": {
             "color": "#2a3f5f"
            },
            "error_y": {
             "color": "#2a3f5f"
            },
            "marker": {
             "line": {
              "color": "#E5ECF6",
              "width": 0.5
             },
             "pattern": {
              "fillmode": "overlay",
              "size": 10,
              "solidity": 0.2
             }
            },
            "type": "bar"
           }
          ],
          "barpolar": [
           {
            "marker": {
             "line": {
              "color": "#E5ECF6",
              "width": 0.5
             },
             "pattern": {
              "fillmode": "overlay",
              "size": 10,
              "solidity": 0.2
             }
            },
            "type": "barpolar"
           }
          ],
          "carpet": [
           {
            "aaxis": {
             "endlinecolor": "#2a3f5f",
             "gridcolor": "white",
             "linecolor": "white",
             "minorgridcolor": "white",
             "startlinecolor": "#2a3f5f"
            },
            "baxis": {
             "endlinecolor": "#2a3f5f",
             "gridcolor": "white",
             "linecolor": "white",
             "minorgridcolor": "white",
             "startlinecolor": "#2a3f5f"
            },
            "type": "carpet"
           }
          ],
          "choropleth": [
           {
            "colorbar": {
             "outlinewidth": 0,
             "ticks": ""
            },
            "type": "choropleth"
           }
          ],
          "contour": [
           {
            "colorbar": {
             "outlinewidth": 0,
             "ticks": ""
            },
            "colorscale": [
             [
              0,
              "#0d0887"
             ],
             [
              0.1111111111111111,
              "#46039f"
             ],
             [
              0.2222222222222222,
              "#7201a8"
             ],
             [
              0.3333333333333333,
              "#9c179e"
             ],
             [
              0.4444444444444444,
              "#bd3786"
             ],
             [
              0.5555555555555556,
              "#d8576b"
             ],
             [
              0.6666666666666666,
              "#ed7953"
             ],
             [
              0.7777777777777778,
              "#fb9f3a"
             ],
             [
              0.8888888888888888,
              "#fdca26"
             ],
             [
              1,
              "#f0f921"
             ]
            ],
            "type": "contour"
           }
          ],
          "contourcarpet": [
           {
            "colorbar": {
             "outlinewidth": 0,
             "ticks": ""
            },
            "type": "contourcarpet"
           }
          ],
          "heatmap": [
           {
            "colorbar": {
             "outlinewidth": 0,
             "ticks": ""
            },
            "colorscale": [
             [
              0,
              "#0d0887"
             ],
             [
              0.1111111111111111,
              "#46039f"
             ],
             [
              0.2222222222222222,
              "#7201a8"
             ],
             [
              0.3333333333333333,
              "#9c179e"
             ],
             [
              0.4444444444444444,
              "#bd3786"
             ],
             [
              0.5555555555555556,
              "#d8576b"
             ],
             [
              0.6666666666666666,
              "#ed7953"
             ],
             [
              0.7777777777777778,
              "#fb9f3a"
             ],
             [
              0.8888888888888888,
              "#fdca26"
             ],
             [
              1,
              "#f0f921"
             ]
            ],
            "type": "heatmap"
           }
          ],
          "heatmapgl": [
           {
            "colorbar": {
             "outlinewidth": 0,
             "ticks": ""
            },
            "colorscale": [
             [
              0,
              "#0d0887"
             ],
             [
              0.1111111111111111,
              "#46039f"
             ],
             [
              0.2222222222222222,
              "#7201a8"
             ],
             [
              0.3333333333333333,
              "#9c179e"
             ],
             [
              0.4444444444444444,
              "#bd3786"
             ],
             [
              0.5555555555555556,
              "#d8576b"
             ],
             [
              0.6666666666666666,
              "#ed7953"
             ],
             [
              0.7777777777777778,
              "#fb9f3a"
             ],
             [
              0.8888888888888888,
              "#fdca26"
             ],
             [
              1,
              "#f0f921"
             ]
            ],
            "type": "heatmapgl"
           }
          ],
          "histogram": [
           {
            "marker": {
             "pattern": {
              "fillmode": "overlay",
              "size": 10,
              "solidity": 0.2
             }
            },
            "type": "histogram"
           }
          ],
          "histogram2d": [
           {
            "colorbar": {
             "outlinewidth": 0,
             "ticks": ""
            },
            "colorscale": [
             [
              0,
              "#0d0887"
             ],
             [
              0.1111111111111111,
              "#46039f"
             ],
             [
              0.2222222222222222,
              "#7201a8"
             ],
             [
              0.3333333333333333,
              "#9c179e"
             ],
             [
              0.4444444444444444,
              "#bd3786"
             ],
             [
              0.5555555555555556,
              "#d8576b"
             ],
             [
              0.6666666666666666,
              "#ed7953"
             ],
             [
              0.7777777777777778,
              "#fb9f3a"
             ],
             [
              0.8888888888888888,
              "#fdca26"
             ],
             [
              1,
              "#f0f921"
             ]
            ],
            "type": "histogram2d"
           }
          ],
          "histogram2dcontour": [
           {
            "colorbar": {
             "outlinewidth": 0,
             "ticks": ""
            },
            "colorscale": [
             [
              0,
              "#0d0887"
             ],
             [
              0.1111111111111111,
              "#46039f"
             ],
             [
              0.2222222222222222,
              "#7201a8"
             ],
             [
              0.3333333333333333,
              "#9c179e"
             ],
             [
              0.4444444444444444,
              "#bd3786"
             ],
             [
              0.5555555555555556,
              "#d8576b"
             ],
             [
              0.6666666666666666,
              "#ed7953"
             ],
             [
              0.7777777777777778,
              "#fb9f3a"
             ],
             [
              0.8888888888888888,
              "#fdca26"
             ],
             [
              1,
              "#f0f921"
             ]
            ],
            "type": "histogram2dcontour"
           }
          ],
          "mesh3d": [
           {
            "colorbar": {
             "outlinewidth": 0,
             "ticks": ""
            },
            "type": "mesh3d"
           }
          ],
          "parcoords": [
           {
            "line": {
             "colorbar": {
              "outlinewidth": 0,
              "ticks": ""
             }
            },
            "type": "parcoords"
           }
          ],
          "pie": [
           {
            "automargin": true,
            "type": "pie"
           }
          ],
          "scatter": [
           {
            "fillpattern": {
             "fillmode": "overlay",
             "size": 10,
             "solidity": 0.2
            },
            "type": "scatter"
           }
          ],
          "scatter3d": [
           {
            "line": {
             "colorbar": {
              "outlinewidth": 0,
              "ticks": ""
             }
            },
            "marker": {
             "colorbar": {
              "outlinewidth": 0,
              "ticks": ""
             }
            },
            "type": "scatter3d"
           }
          ],
          "scattercarpet": [
           {
            "marker": {
             "colorbar": {
              "outlinewidth": 0,
              "ticks": ""
             }
            },
            "type": "scattercarpet"
           }
          ],
          "scattergeo": [
           {
            "marker": {
             "colorbar": {
              "outlinewidth": 0,
              "ticks": ""
             }
            },
            "type": "scattergeo"
           }
          ],
          "scattergl": [
           {
            "marker": {
             "colorbar": {
              "outlinewidth": 0,
              "ticks": ""
             }
            },
            "type": "scattergl"
           }
          ],
          "scattermapbox": [
           {
            "marker": {
             "colorbar": {
              "outlinewidth": 0,
              "ticks": ""
             }
            },
            "type": "scattermapbox"
           }
          ],
          "scatterpolar": [
           {
            "marker": {
             "colorbar": {
              "outlinewidth": 0,
              "ticks": ""
             }
            },
            "type": "scatterpolar"
           }
          ],
          "scatterpolargl": [
           {
            "marker": {
             "colorbar": {
              "outlinewidth": 0,
              "ticks": ""
             }
            },
            "type": "scatterpolargl"
           }
          ],
          "scatterternary": [
           {
            "marker": {
             "colorbar": {
              "outlinewidth": 0,
              "ticks": ""
             }
            },
            "type": "scatterternary"
           }
          ],
          "surface": [
           {
            "colorbar": {
             "outlinewidth": 0,
             "ticks": ""
            },
            "colorscale": [
             [
              0,
              "#0d0887"
             ],
             [
              0.1111111111111111,
              "#46039f"
             ],
             [
              0.2222222222222222,
              "#7201a8"
             ],
             [
              0.3333333333333333,
              "#9c179e"
             ],
             [
              0.4444444444444444,
              "#bd3786"
             ],
             [
              0.5555555555555556,
              "#d8576b"
             ],
             [
              0.6666666666666666,
              "#ed7953"
             ],
             [
              0.7777777777777778,
              "#fb9f3a"
             ],
             [
              0.8888888888888888,
              "#fdca26"
             ],
             [
              1,
              "#f0f921"
             ]
            ],
            "type": "surface"
           }
          ],
          "table": [
           {
            "cells": {
             "fill": {
              "color": "#EBF0F8"
             },
             "line": {
              "color": "white"
             }
            },
            "header": {
             "fill": {
              "color": "#C8D4E3"
             },
             "line": {
              "color": "white"
             }
            },
            "type": "table"
           }
          ]
         },
         "layout": {
          "annotationdefaults": {
           "arrowcolor": "#2a3f5f",
           "arrowhead": 0,
           "arrowwidth": 1
          },
          "autotypenumbers": "strict",
          "coloraxis": {
           "colorbar": {
            "outlinewidth": 0,
            "ticks": ""
           }
          },
          "colorscale": {
           "diverging": [
            [
             0,
             "#8e0152"
            ],
            [
             0.1,
             "#c51b7d"
            ],
            [
             0.2,
             "#de77ae"
            ],
            [
             0.3,
             "#f1b6da"
            ],
            [
             0.4,
             "#fde0ef"
            ],
            [
             0.5,
             "#f7f7f7"
            ],
            [
             0.6,
             "#e6f5d0"
            ],
            [
             0.7,
             "#b8e186"
            ],
            [
             0.8,
             "#7fbc41"
            ],
            [
             0.9,
             "#4d9221"
            ],
            [
             1,
             "#276419"
            ]
           ],
           "sequential": [
            [
             0,
             "#0d0887"
            ],
            [
             0.1111111111111111,
             "#46039f"
            ],
            [
             0.2222222222222222,
             "#7201a8"
            ],
            [
             0.3333333333333333,
             "#9c179e"
            ],
            [
             0.4444444444444444,
             "#bd3786"
            ],
            [
             0.5555555555555556,
             "#d8576b"
            ],
            [
             0.6666666666666666,
             "#ed7953"
            ],
            [
             0.7777777777777778,
             "#fb9f3a"
            ],
            [
             0.8888888888888888,
             "#fdca26"
            ],
            [
             1,
             "#f0f921"
            ]
           ],
           "sequentialminus": [
            [
             0,
             "#0d0887"
            ],
            [
             0.1111111111111111,
             "#46039f"
            ],
            [
             0.2222222222222222,
             "#7201a8"
            ],
            [
             0.3333333333333333,
             "#9c179e"
            ],
            [
             0.4444444444444444,
             "#bd3786"
            ],
            [
             0.5555555555555556,
             "#d8576b"
            ],
            [
             0.6666666666666666,
             "#ed7953"
            ],
            [
             0.7777777777777778,
             "#fb9f3a"
            ],
            [
             0.8888888888888888,
             "#fdca26"
            ],
            [
             1,
             "#f0f921"
            ]
           ]
          },
          "colorway": [
           "#636efa",
           "#EF553B",
           "#00cc96",
           "#ab63fa",
           "#FFA15A",
           "#19d3f3",
           "#FF6692",
           "#B6E880",
           "#FF97FF",
           "#FECB52"
          ],
          "font": {
           "color": "#2a3f5f"
          },
          "geo": {
           "bgcolor": "white",
           "lakecolor": "white",
           "landcolor": "#E5ECF6",
           "showlakes": true,
           "showland": true,
           "subunitcolor": "white"
          },
          "hoverlabel": {
           "align": "left"
          },
          "hovermode": "closest",
          "mapbox": {
           "style": "light"
          },
          "paper_bgcolor": "white",
          "plot_bgcolor": "#E5ECF6",
          "polar": {
           "angularaxis": {
            "gridcolor": "white",
            "linecolor": "white",
            "ticks": ""
           },
           "bgcolor": "#E5ECF6",
           "radialaxis": {
            "gridcolor": "white",
            "linecolor": "white",
            "ticks": ""
           }
          },
          "scene": {
           "xaxis": {
            "backgroundcolor": "#E5ECF6",
            "gridcolor": "white",
            "gridwidth": 2,
            "linecolor": "white",
            "showbackground": true,
            "ticks": "",
            "zerolinecolor": "white"
           },
           "yaxis": {
            "backgroundcolor": "#E5ECF6",
            "gridcolor": "white",
            "gridwidth": 2,
            "linecolor": "white",
            "showbackground": true,
            "ticks": "",
            "zerolinecolor": "white"
           },
           "zaxis": {
            "backgroundcolor": "#E5ECF6",
            "gridcolor": "white",
            "gridwidth": 2,
            "linecolor": "white",
            "showbackground": true,
            "ticks": "",
            "zerolinecolor": "white"
           }
          },
          "shapedefaults": {
           "line": {
            "color": "#2a3f5f"
           }
          },
          "ternary": {
           "aaxis": {
            "gridcolor": "white",
            "linecolor": "white",
            "ticks": ""
           },
           "baxis": {
            "gridcolor": "white",
            "linecolor": "white",
            "ticks": ""
           },
           "bgcolor": "#E5ECF6",
           "caxis": {
            "gridcolor": "white",
            "linecolor": "white",
            "ticks": ""
           }
          },
          "title": {
           "x": 0.05
          },
          "xaxis": {
           "automargin": true,
           "gridcolor": "white",
           "linecolor": "white",
           "ticks": "",
           "title": {
            "standoff": 15
           },
           "zerolinecolor": "white",
           "zerolinewidth": 2
          },
          "yaxis": {
           "automargin": true,
           "gridcolor": "white",
           "linecolor": "white",
           "ticks": "",
           "title": {
            "standoff": 15
           },
           "zerolinecolor": "white",
           "zerolinewidth": 2
          }
         }
        },
        "xaxis": {
         "anchor": "y",
         "domain": [
          0,
          0.94
         ]
        },
        "yaxis": {
         "anchor": "x",
         "domain": [
          0,
          1
         ]
        },
        "yaxis2": {
         "anchor": "x",
         "overlaying": "y",
         "side": "right"
        }
       }
      }
     },
     "metadata": {},
     "output_type": "display_data"
    }
   ],
   "source": [
    "# some basic setup\n",
    "out = widgets.Output()\n",
    "\n",
    "input_path = Path(\"../OUTPUT/\")\n",
    "\n",
    "folders = [Path(*x.parts[2:]) for x in list(input_path.rglob(\"./*/\"))]\n",
    "\n",
    "source_widget = widgets.Dropdown(options=folders, description=\"Source:\")\n",
    "\n",
    "metadata_files = list(Path(input_path / Path(source_widget.value)).glob(\"*.json\"))\n",
    "\n",
    "filename_widget = widgets.Dropdown(options=[str(x.stem).replace(\"_metadata\", \"\") for x in metadata_files], description=\"Filename:\")\n",
    "\n",
    "# UI code\n",
    "\n",
    "def update_folder(event=None):\n",
    "    # get test metadata\n",
    "    global metadata_files\n",
    "    metadata_files = list(Path(input_path / Path(source_widget.value)).glob(\"*.json\"))\n",
    "\n",
    "    global filename_widget\n",
    "    if len(metadata_files) > 0:\n",
    "        filename_widget = widgets.Dropdown(options=[str(x.stem).replace(\"_metadata\", \"\") for x in metadata_files], description=\"Filename:\")\n",
    "        plot()\n",
    "    else:\n",
    "        filename_widget = widgets.Dropdown(options=[\"-\"], description=\"Filename:\")\n",
    "        redraw_ui()\n",
    "        \n",
    "\n",
    "# Select X & Y axis\n",
    "x_axis_widget = widgets.Dropdown(description='X axis:', options=data.columns)\n",
    "y_axis_widget = widgets.Dropdown(description='Y axis:', options=data.columns)\n",
    "sec_y_axis_widget = widgets.Dropdown(description='Sec. Y axis:', options=data.columns)\n",
    "sec_x_axis_widget = widgets.Dropdown(description='Sec. X axis:', options=data.columns)\n",
    "\n",
    "y_max = widgets.FloatText(description='Y max:', value=0)\n",
    "y_min = widgets.FloatText(description='Y min:', value=0)\n",
    "y_scale_enabled = widgets.Checkbox(description='Y scale:', value=False)\n",
    "savgol_filter_enabled = widgets.Checkbox(description='Savgol filter', value=False)\n",
    "\n",
    "sec_y_max = widgets.FloatText(description='Sec. Y max:', value=0)\n",
    "sec_y_min = widgets.FloatText(description='Sec. Y min:', value=0)\n",
    "sec_y_scale_enabled = widgets.Checkbox(description='Sec. Y scale:', value=False)\n",
    "sec_savgol_filter_enabled = widgets.Checkbox(description='Savgol filter', value=False)\n",
    "\n",
    "update = widgets.Button(description=\"Plot\", icon=\"check\")\n",
    "\n",
    "fig = make_subplots(specs=[[{\"secondary_y\": True}]])\n",
    "    \n",
    "def redraw_ui():\n",
    "    clear_output()\n",
    "\n",
    "    primary_box = widgets.Box(children=[x_axis_widget, y_axis_widget, y_scale_enabled, y_min, y_max, savgol_filter_enabled])\n",
    "    secondary_box = widgets.Box(children=[sec_x_axis_widget, sec_y_axis_widget, sec_y_scale_enabled, sec_y_min, sec_y_max, sec_savgol_filter_enabled])\n",
    "    vbox = widgets.VBox([source_widget, filename_widget, primary_box, secondary_box, update])\n",
    "\n",
    "    display(vbox)\n",
    "\n",
    "def plot(event=None):\n",
    "\n",
    "    data = pd.read_csv(input_path / Path(source_widget.value) / Path(filename_widget.value + \"_data.csv\"))\n",
    "    \n",
    "    x_axis_widget.options = data.columns\n",
    "    y_axis_widget.options = data.columns\n",
    "\n",
    "    sec_y_axis_widget.options = data.columns\n",
    "    sec_x_axis_widget.options = data.columns\n",
    "\n",
    "    redraw_ui()\n",
    "\n",
    "    y_data = data[y_axis_widget.value]\n",
    "    x_data = data[x_axis_widget.value]\n",
    "\n",
    "    sec_y_data = data[sec_y_axis_widget.value]\n",
    "    sec_x_data = data[sec_x_axis_widget.value]\n",
    "\n",
    "    # Optionally add savgol filter to the data\n",
    "    if savgol_filter_enabled.value:\n",
    "        y_data = scipy.signal.savgol_filter(y_data, 21, 3)\n",
    "    if sec_savgol_filter_enabled.value:\n",
    "        sec_y_data = scipy.signal.savgol_filter(sec_y_data, 21, 3)\n",
    "\n",
    "    fig = make_subplots(specs=[[{\"secondary_y\": True}]])\n",
    "\n",
    "    if y_axis_widget.value != x_axis_widget.value:\n",
    "        fig.add_trace(go.Scatter(x=x_data, y=y_data, mode='lines', name=f\"{y_axis_widget.value} vs {x_axis_widget.value}\"), secondary_y=False)\n",
    "        if y_scale_enabled.value:\n",
    "            fig.update_yaxes(range=[y_min.value, y_max.value], autorange=False)\n",
    "    \n",
    "    if sec_y_axis_widget.value != sec_x_axis_widget.value:\n",
    "        fig.add_trace(go.Scatter(x=sec_x_data, y=sec_y_data, mode='lines', name=f\"{sec_y_axis_widget.value} vs {sec_x_axis_widget.value} (secondary)\"), secondary_y=True)\n",
    "        if sec_y_scale_enabled.value:\n",
    "            fig.update_yaxes(range=[sec_y_min.value, sec_y_max.value], secondary_y=True, autorange=False)\n",
    "\n",
    "    fig.show()\n",
    "\n",
    "# TODO: also allow setting the scale for each axis\n",
    "\n",
    "filename_widget.observe(plot, names=\"value\")\n",
    "source_widget.observe(update_folder, names=\"value\")\n",
    "\n",
    "update.on_click(plot)\n",
    "\n",
    "plot()\n"
   ]
  },
  {
   "cell_type": "code",
   "execution_count": 42,
   "id": "6399812d",
   "metadata": {
    "collapsed": true,
    "jupyter": {
     "outputs_hidden": true,
     "source_hidden": true
    }
   },
   "outputs": [
    {
     "name": "stdout",
     "output_type": "stream",
     "text": [
      "\u001b[38;5;45mTest: 10-22-2011-NIST_224_A350-CheckOut-scaled\u001b[0m\n",
      " - Date: 2011-10-22T15:27:18\n",
      " - Heat flux (kw/m^2): None\n",
      " - Material: None\n",
      " - Specimen description: None\n",
      " - General comments: test new daq version 112 and new harward config with post processing\n",
      "\u001b[38;5;45mTest: 10-22-2011-NIST_224_A350-CheckOut2-scaled\u001b[0m\n",
      " - Date: 2011-10-22T15:43:15\n",
      " - Heat flux (kw/m^2): None\n",
      " - Material: None\n",
      " - Specimen description: None\n",
      " - General comments: test new daq version 112 and new harward config with post processing\n",
      "\u001b[38;5;45mTest: 10-24-2011-CONELAB-CheckOut3-scaled\u001b[0m\n",
      " - Date: 2011-10-24T14:08:24\n",
      " - Heat flux (kw/m^2): None\n",
      " - Material: None\n",
      " - Specimen description: None\n",
      " - General comments: test new daq version 116 and new harward config with post processing\n",
      "\u001b[38;5;45mTest: 10-24-2011-CONELAB-CheckOut4-scaled\u001b[0m\n",
      " - Date: 2011-10-24T15:26:19\n",
      " - Heat flux (kw/m^2): None\n",
      " - Material: None\n",
      " - Specimen description: None\n",
      " - General comments: test new daq version 116 and new harward config with post processing\n",
      "\u001b[38;5;45mTest: 11-1-2011-CONELAB-checkSOP1-scaled\u001b[0m\n",
      " - Date: 2011-01-11T11:18:05\n",
      " - Heat flux (kw/m^2): None\n",
      " - Material: None\n",
      " - Specimen description: None\n",
      " - General comments: Check SOP\n",
      "\u001b[38;5;45mTest: 11-1-2011-CONELAB-checkSOP2-scaled\u001b[0m\n",
      " - Date: 2011-01-11T11:40:21\n",
      " - Heat flux (kw/m^2): None\n",
      " - Material: None\n",
      " - Specimen description: None\n",
      " - General comments: Check SOP\n",
      "\u001b[38;5;45mTest: 11-1-2011-CONELAB-checkSOP3-scaled\u001b[0m\n",
      " - Date: 2011-01-11T12:04:06\n",
      " - Heat flux (kw/m^2): None\n",
      " - Material: None\n",
      " - Specimen description: None\n",
      " - General comments: Check SOP\n",
      "\u001b[38;5;45mTest: 11-2-2011-CONELAB-Check1-scaled\u001b[0m\n",
      " - Date: 2011-02-11T15:52:34\n",
      " - Heat flux (kw/m^2): None\n",
      " - Material: None\n",
      " - Specimen description: None\n",
      " - General comments: MOP\n",
      "\u001b[38;5;45mTest: 11-2-2011-CONELAB-checkSOP-scaled\u001b[0m\n",
      " - Date: 2011-02-11T13:21:45\n",
      " - Heat flux (kw/m^2): None\n",
      " - Material: None\n",
      " - Specimen description: None\n",
      " - General comments: Check SOP1\n",
      "\u001b[38;5;45mTest: 11-2-2011-CONELAB-checkSOP2-scaled\u001b[0m\n",
      " - Date: 2011-02-11T13:29:34\n",
      " - Heat flux (kw/m^2): None\n",
      " - Material: None\n",
      " - Specimen description: None\n",
      " - General comments: check SOP\n",
      "\u001b[38;5;45mTest: 11-2-2011-CONELAB-conecal-scaled\u001b[0m\n",
      " - Date: 2011-02-11T15:00:28\n",
      " - Heat flux (kw/m^2): None\n",
      " - Material: None\n",
      " - Specimen description: None\n",
      " - General comments: conecal SOP check\n",
      "\u001b[38;5;45mTest: 12-16-2011-CONELAB-Startup2-scaled\u001b[0m\n",
      " - Date: 2011-12-16T13:52:36\n",
      " - Heat flux (kw/m^2): None\n",
      " - Material: None\n",
      " - Specimen description: None\n",
      " - General comments: startup for methane calibration\n",
      "\u001b[38;5;45mTest: 12-20-2011-CONELAB-demo1-scaled\u001b[0m\n",
      " - Date: 2011-12-20T09:56:23\n",
      " - Heat flux (kw/m^2): None\n",
      " - Material: None\n",
      " - Specimen description: None\n",
      " - General comments: show workflow\n",
      "\u001b[38;5;45mTest: 12-20-2011-CONELAB-foam123-scaled\u001b[0m\n",
      " - Date: 2011-12-20T12:12:07\n",
      " - Heat flux (kw/m^2): None\n",
      " - Material: None\n",
      " - Specimen description: None\n",
      " - General comments: srm foam sample 123\n",
      "\u001b[38;5;45mTest: 12-20-2011-CONELAB-foam321-scaled\u001b[0m\n",
      " - Date: 2011-12-20T12:17:26\n",
      " - Heat flux (kw/m^2): None\n",
      " - Material: None\n",
      " - Specimen description: None\n",
      " - General comments: srm foam sample ****  demo run\n",
      "\u001b[38;5;45mTest: 12-20-2011-CONELAB-MethaneCal_Cfactor-scaled\u001b[0m\n",
      " - Date: 2011-12-20T11:11:29\n",
      " - Heat flux (kw/m^2): None\n",
      " - Material: None\n",
      " - Specimen description: None\n",
      " - General comments: methane calibration\n",
      "\u001b[38;5;45mTest: 12-21-2011-CONELAB-calibrations-scaled\u001b[0m\n",
      " - Date: 2011-12-21T14:38:44\n",
      " - Heat flux (kw/m^2): None\n",
      " - Material: None\n",
      " - Specimen description: None\n",
      " - General comments: Instrument calibration\n",
      "\u001b[38;5;45mTest: 12-21-2011-CONELAB-MethaneCal_C-factor-scaled\u001b[0m\n",
      " - Date: 2011-12-21T15:01:31\n",
      " - Heat flux (kw/m^2): None\n",
      " - Material: None\n",
      " - Specimen description: None\n",
      " - General comments: Methane Calibration\n",
      "\u001b[38;5;45mTest: 12-21-2011-CONELAB-PMMA_system-check-scaled\u001b[0m\n",
      " - Date: 2011-12-21T16:30:28\n",
      " - Heat flux (kw/m^2): None\n",
      " - Material: None\n",
      " - Specimen description: None\n",
      " - General comments: PMMA_system cal check, 1\" thick black w/cardboard sides - Inititial wt. 297.3g\n",
      "\u001b[38;5;45mTest: 12-27-2011-CONELAB-CanopyFlowTest-scaled\u001b[0m\n",
      " - Date: 2011-12-27T10:43:23\n",
      " - Heat flux (kw/m^2): None\n",
      " - Material: None\n",
      " - Specimen description: None\n",
      " - General comments: test new transducer for monitoring canopy hood flow\n",
      "\u001b[38;5;45mTest: 12-27-2011-CONELAB-CanopyFlowTest2-scaled\u001b[0m\n",
      " - Date: 2011-12-27T11:36:04\n",
      " - Heat flux (kw/m^2): None\n",
      " - Material: None\n",
      " - Specimen description: None\n",
      " - General comments: test new transducer for monitoring canopy hood flow\n",
      "\u001b[38;5;45mTest: 12-27-2011-CONELAB-CanopyFlowTest3-scaled\u001b[0m\n",
      " - Date: 2011-12-27T11:48:37\n",
      " - Heat flux (kw/m^2): None\n",
      " - Material: None\n",
      " - Specimen description: None\n",
      " - General comments: test new transducer for monitoring canopy hood flow\n",
      "\u001b[38;5;45mTest: 12-27-2011-CONELAB-VitiatedFlowPreTest-scaled\u001b[0m\n",
      " - Date: 2011-12-27T12:09:41\n",
      " - Heat flux (kw/m^2): None\n",
      " - Material: None\n",
      " - Specimen description: None\n",
      " - General comments: Test air flow to viated compartment\n",
      "\u001b[38;5;45mTest: 12-28-2011-CONELAB-Methane Burner_open-closed-Chamber-scaled\u001b[0m\n",
      " - Date: 2011-12-28T12:16:39\n",
      " - Heat flux (kw/m^2): None\n",
      " - Material: None\n",
      " - Specimen description: None\n",
      " - General comments: Methane Burner open chamber ---  followed by closed chamber w/supplied air (~5kW)\n",
      "\u001b[38;5;45mTest: 12-28-2011-CONELAB-MethaneCal_c-factor-scaled\u001b[0m\n",
      " - Date: 2011-12-28T11:44:16\n",
      " - Heat flux (kw/m^2): None\n",
      " - Material: None\n",
      " - Specimen description: None\n",
      " - General comments: Methane Calibration + Balanced air flow w/closed chamber\n",
      "\u001b[38;5;45mTest: 12-28-2011-CONELAB-VitiatedFlowPreTest2-scaled\u001b[0m\n",
      " - Date: 2011-12-28T06:26:59\n",
      " - Heat flux (kw/m^2): None\n",
      " - Material: None\n",
      " - Specimen description: None\n",
      " - General comments: Test air flow to viated compartment - test new postprocess report\n",
      "\u001b[38;5;45mTest: 12-29-2011-CONELAB-AirNitrogenFlowPreTest-scaled\u001b[0m\n",
      " - Date: 2011-12-29T14:00:26\n",
      " - Heat flux (kw/m^2): None\n",
      " - Material: None\n",
      " - Specimen description: None\n",
      " - General comments: Test - air + nitrogen flow to test chamber\n",
      "\u001b[38;5;45mTest: 12-29-2011-CONELAB-FabricFoamPreTest-scaled\u001b[0m\n",
      " - Date: 2011-12-29T15:54:03\n",
      " - Heat flux (kw/m^2): None\n",
      " - Material: None\n",
      " - Specimen description: None\n",
      " - General comments: Test - fabric/foam -  \n",
      "\u001b[38;5;45mTest: 4-11-2011-NIST_224_A350-checkout-scaled\u001b[0m\n",
      " - Date: 2011-11-04T11:19:29\n",
      " - Heat flux (kw/m^2): None\n",
      " - Material: None\n",
      " - Specimen description: None\n",
      " - General comments: Daily startup for methane calibration\n",
      "\u001b[38;5;45mTest: 4-12-2011-NIST_224_A350-Real Sample Test-scaled\u001b[0m\n",
      " - Date: 2011-12-04T13:10:34\n",
      " - Heat flux (kw/m^2): None\n",
      " - Material: None\n",
      " - Specimen description: None\n",
      " - General comments: Real Sample Test, using Cone Software as primary\n",
      "\u001b[38;5;45mTest: 4-21-2011-NIST_224_A350-Checkout-scaled\u001b[0m\n",
      " - Date: 2011-04-21T11:18:43\n",
      " - Heat flux (kw/m^2): None\n",
      " - Material: None\n",
      " - Specimen description: None\n",
      " - General comments: Check new version of program\n",
      "\u001b[38;5;45mTest: 4-21-2011-NIST_224_A350-Checkout2-scaled\u001b[0m\n",
      " - Date: 2011-04-21T11:26:15\n",
      " - Heat flux (kw/m^2): None\n",
      " - Material: None\n",
      " - Specimen description: None\n",
      " - General comments: Try again\n",
      "\u001b[38;5;45mTest: 4-29-2011-NIST_224_A350-Test Program 2-scaled\u001b[0m\n",
      " - Date: 2011-04-29T14:32:37\n",
      " - Heat flux (kw/m^2): None\n",
      " - Material: None\n",
      " - Specimen description: None\n",
      " - General comments: run and test newest version\n",
      "\u001b[38;5;45mTest: 4-29-2011-NIST_224_A350-Test Program 3-scaled\u001b[0m\n",
      " - Date: 2011-04-29T14:46:19\n",
      " - Heat flux (kw/m^2): None\n",
      " - Material: None\n",
      " - Specimen description: None\n",
      " - General comments: run and test newest version\n",
      "\u001b[38;5;45mTest: 4-29-2011-NIST_224_A350-Test Program 4-scaled\u001b[0m\n",
      " - Date: 2011-04-29T15:03:09\n",
      " - Heat flux (kw/m^2): None\n",
      " - Material: None\n",
      " - Specimen description: None\n",
      " - General comments: run and test newest version\n",
      "\u001b[38;5;45mTest: 4-7-2011-NIST_224_A350-checkoutgasburner-scaled\u001b[0m\n",
      " - Date: 2011-07-04T12:14:37\n",
      " - Heat flux (kw/m^2): None\n",
      " - Material: None\n",
      " - Specimen description: None\n",
      " - General comments: debug test with natural gas\n",
      "\u001b[38;5;45mTest: 4-7-2011-NIST_224_A350-checkoutgasburner2-scaled\u001b[0m\n",
      " - Date: 2011-07-04T12:20:18\n",
      " - Heat flux (kw/m^2): None\n",
      " - Material: None\n",
      " - Specimen description: None\n",
      " - General comments: debug test with natural gas\n",
      "\u001b[38;5;45mTest: 4-7-2011-NIST_224_A350-debug-scaled\u001b[0m\n",
      " - Date: 2011-07-04T11:25:52\n",
      " - Heat flux (kw/m^2): None\n",
      " - Material: None\n",
      " - Specimen description: None\n",
      " - General comments: test run program-no fire\n",
      "\u001b[38;5;45mTest: 4-7-2011-NIST_224_A350-debug2-scaled\u001b[0m\n",
      " - Date: 2011-07-04T11:41:59\n",
      " - Heat flux (kw/m^2): None\n",
      " - Material: None\n",
      " - Specimen description: None\n",
      " - General comments: test run program-no fire\n",
      "\u001b[38;5;45mTest: 4-7-2011-NIST_224_A350-debug3-scaled\u001b[0m\n",
      " - Date: 2011-07-04T11:53:29\n",
      " - Heat flux (kw/m^2): None\n",
      " - Material: None\n",
      " - Specimen description: None\n",
      " - General comments: test run program-no fire\n",
      "\u001b[38;5;45mTest: 4-7-2011-NIST_224_A350-debug4-scaled\u001b[0m\n",
      " - Date: 2011-07-04T12:06:10\n",
      " - Heat flux (kw/m^2): None\n",
      " - Material: None\n",
      " - Specimen description: None\n",
      " - General comments: test run program-no fire\n",
      "\u001b[38;5;45mTest: 4-8-2011-NIST_224_A350-Startup-scaled\u001b[0m\n",
      " - Date: 2011-08-04T11:34:03\n",
      " - Heat flux (kw/m^2): None\n",
      " - Material: None\n",
      " - Specimen description: None\n",
      " - General comments: Daily startup for methane calibration\n",
      "\u001b[38;5;45mTest: 5-2-2011-NIST_224_A350-Startup-scaled\u001b[0m\n",
      " - Date: 2011-02-05T08:21:15\n",
      " - Heat flux (kw/m^2): None\n",
      " - Material: None\n",
      " - Specimen description: None\n",
      " - General comments: test manual calibration of gas analyzers\n",
      "\u001b[38;5;45mTest: 5-3-2011-NIST_224_A350-methane1-scaled\u001b[0m\n",
      " - Date: 2011-03-05T14:06:22\n",
      " - Heat flux (kw/m^2): None\n",
      " - Material: None\n",
      " - Specimen description: None\n",
      " - General comments: check methane flow calibration\n",
      "\u001b[38;5;45mTest: 5-4-2011-NIST_224_A350-debugCalGas-scaled\u001b[0m\n",
      " - Date: 2011-04-05T11:21:11\n",
      " - Heat flux (kw/m^2): None\n",
      " - Material: None\n",
      " - Specimen description: None\n",
      " - General comments: check calibration gas flow for analyzers\n",
      "\u001b[38;5;45mTest: 5-4-2011-NIST_224_A350-debugPT-scaled\u001b[0m\n",
      " - Date: 2011-04-05T11:03:32\n",
      " - Heat flux (kw/m^2): None\n",
      " - Material: None\n",
      " - Specimen description: None\n",
      " - General comments: checkflow pressure output\n",
      "\u001b[38;5;45mTest: 6-20-2011-NIST_224_A350-demostration-burner-scaled\u001b[0m\n",
      " - Date: 2011-06-20T14:34:16\n",
      " - Heat flux (kw/m^2): None\n",
      " - Material: None\n",
      " - Specimen description: None\n",
      " - General comments: demo program\n",
      "\u001b[38;5;45mTest: 6-20-2011-NIST_224_A350-demostration-scaled\u001b[0m\n",
      " - Date: 2011-06-20T13:48:18\n",
      " - Heat flux (kw/m^2): None\n",
      " - Material: None\n",
      " - Specimen description: None\n",
      " - General comments: demo program\n",
      "\u001b[38;5;45mTest: 6-21-2011-NIST_224_A350-aaa-scaled\u001b[0m\n",
      " - Date: 2011-06-21T15:03:58\n",
      " - Heat flux (kw/m^2): None\n",
      " - Material: None\n",
      " - Specimen description: None\n",
      " - General comments: aaa\n",
      "\u001b[38;5;45mTest: 6-21-2011-NIST_224_A350-practice 1-scaled\u001b[0m\n",
      " - Date: 2011-06-21T14:35:47\n",
      " - Heat flux (kw/m^2): None\n",
      " - Material: None\n",
      " - Specimen description: None\n",
      " - General comments: aaa\n",
      "\u001b[38;5;45mTest: 6-23-2011-NIST_224_A350-cfactor-scaled\u001b[0m\n",
      " - Date: 2011-06-23T14:07:06\n",
      " - Heat flux (kw/m^2): None\n",
      " - Material: None\n",
      " - Specimen description: None\n",
      " - General comments: methane calibration\n",
      "\u001b[38;5;45mTest: 6-23-2011-NIST_224_A350-cfactor2-scaled\u001b[0m\n",
      " - Date: 2011-06-23T15:01:04\n",
      " - Heat flux (kw/m^2): None\n",
      " - Material: None\n",
      " - Specimen description: None\n",
      " - General comments: methane calibration\n",
      "\u001b[38;5;45mTest: 6-23-2011-NIST_224_A350-PMMA_run1-scaled\u001b[0m\n",
      " - Date: 2011-06-23T15:43:35\n",
      " - Heat flux (kw/m^2): None\n",
      " - Material: None\n",
      " - Specimen description: None\n",
      " - General comments: 1\" thick black PMMA reference sample, initial wt. 299.9g\n",
      "\u001b[38;5;45mTest: 6-23-2011-NIST_224_A350-startup-scaled\u001b[0m\n",
      " - Date: 2011-06-23T10:05:03\n",
      " - Heat flux (kw/m^2): None\n",
      " - Material: None\n",
      " - Specimen description: None\n",
      " - General comments: training on program operation\n",
      "\u001b[38;5;45mTest: 6-23-2011-NIST_224_A350-startup2-scaled\u001b[0m\n",
      " - Date: 2011-06-23T11:28:35\n",
      " - Heat flux (kw/m^2): None\n",
      " - Material: None\n",
      " - Specimen description: None\n",
      " - General comments: training on program operation -redo load cell  cal\n",
      "\u001b[38;5;45mTest: 6-24-2011-NIST_224_A350-test-scaled\u001b[0m\n",
      " - Date: 2011-06-24T12:56:36\n",
      " - Heat flux (kw/m^2): None\n",
      " - Material: None\n",
      " - Specimen description: None\n",
      " - General comments: test\n",
      "\u001b[38;5;45mTest: 7-15-2011-NIST_224_A350-methane5kW_delay-scaled\u001b[0m\n",
      " - Date: 2011-07-15T14:46:47\n",
      " - Heat flux (kw/m^2): None\n",
      " - Material: None\n",
      " - Specimen description: None\n",
      " - General comments: collect data to determine delay times\n",
      "\u001b[38;5;45mTest: 7-15-2011-NIST_224_A350-methane5kW_delay2-scaled\u001b[0m\n",
      " - Date: 2011-07-15T15:20:38\n",
      " - Heat flux (kw/m^2): None\n",
      " - Material: None\n",
      " - Specimen description: None\n",
      " - General comments: collect data to determine delay times.  Manually insert cal burner\n",
      "\u001b[38;5;45mTest: 7-15-2011-NIST_224_A350-Startup-scaled\u001b[0m\n",
      " - Date: 2011-07-15T13:59:07\n",
      " - Heat flux (kw/m^2): None\n",
      " - Material: None\n",
      " - Specimen description: None\n",
      " - General comments: calibrate gas analyzers\n",
      "\u001b[38;5;45mTest: 7-15-2011-NIST_224_A350-test-scaled\u001b[0m\n",
      " - Date: 2011-07-15T11:35:41\n",
      " - Heat flux (kw/m^2): None\n",
      " - Material: None\n",
      " - Specimen description: None\n",
      " - General comments: test\n",
      "\u001b[38;5;45mTest: 7-15-2011-NIST_224_A350-test3-scaled\u001b[0m\n",
      " - Date: 2011-07-15T12:02:41\n",
      " - Heat flux (kw/m^2): None\n",
      " - Material: None\n",
      " - Specimen description: None\n",
      " - General comments: test\n",
      "\u001b[38;5;45mTest: 7-19-2011-NIST_224_A350-debug-scaled\u001b[0m\n",
      " - Date: 2011-07-19T16:13:04\n",
      " - Heat flux (kw/m^2): None\n",
      " - Material: None\n",
      " - Specimen description: None\n",
      " - General comments: first test with new labview version\n",
      "\u001b[38;5;45mTest: 7-20-2011-NIST_224_A350-debug-scaled\u001b[0m\n",
      " - Date: 2011-07-20T07:45:57\n",
      " - Heat flux (kw/m^2): None\n",
      " - Material: None\n",
      " - Specimen description: None\n",
      " - General comments: test with new labview version and data bridge with custom display\n",
      "\u001b[38;5;45mTest: 7-21-2011-NIST_224_A350-debugA-scaled\u001b[0m\n",
      " - Date: 2011-07-21T14:07:15\n",
      " - Heat flux (kw/m^2): None\n",
      " - Material: None\n",
      " - Specimen description: None\n",
      " - General comments: test with new labview version and data bridge with custom display\n",
      "\u001b[38;5;45mTest: 7-22-2011-NIST_224_A350-BurnerDelay-scaled\u001b[0m\n",
      " - Date: 2011-07-22T14:25:00\n",
      " - Heat flux (kw/m^2): None\n",
      " - Material: None\n",
      " - Specimen description: None\n",
      " - General comments: square wave for delay calc\n",
      "\u001b[38;5;45mTest: 7-22-2011-NIST_224_A350-setup11-scaled\u001b[0m\n",
      " - Date: 2011-07-22T16:16:30\n",
      " - Heat flux (kw/m^2): None\n",
      " - Material: None\n",
      " - Specimen description: None\n",
      " - General comments: gascal\n",
      "\u001b[38;5;45mTest: 7-22-2011-NIST_224_A350-startup10-scaled\u001b[0m\n",
      " - Date: 2011-07-22T16:10:42\n",
      " - Heat flux (kw/m^2): None\n",
      " - Material: None\n",
      " - Specimen description: None\n",
      " - General comments: gascal\n",
      "\u001b[38;5;45mTest: 7-22-2011-NIST_224_A350-startup2-scaled\u001b[0m\n",
      " - Date: 2011-07-22T14:04:19\n",
      " - Heat flux (kw/m^2): None\n",
      " - Material: None\n",
      " - Specimen description: None\n",
      " - General comments: gas analyzer calibration\n",
      "\u001b[38;5;45mTest: 7-22-2011-NIST_224_A350-startup3-scaled\u001b[0m\n",
      " - Date: 2011-07-22T14:10:24\n",
      " - Heat flux (kw/m^2): None\n",
      " - Material: None\n",
      " - Specimen description: None\n",
      " - General comments: gas analyzer calibration\n",
      "\u001b[38;5;45mTest: 7-22-2011-NIST_224_A350-startup4-scaled\u001b[0m\n",
      " - Date: 2011-07-22T14:15:38\n",
      " - Heat flux (kw/m^2): None\n",
      " - Material: None\n",
      " - Specimen description: None\n",
      " - General comments: gas analyzer calibration\n",
      "\u001b[38;5;45mTest: 7-22-2011-NIST_224_A350-startup5-scaled\u001b[0m\n",
      " - Date: 2011-07-22T14:45:04\n",
      " - Heat flux (kw/m^2): None\n",
      " - Material: None\n",
      " - Specimen description: None\n",
      " - General comments: square wave for delay calc\n",
      "\u001b[38;5;45mTest: 7-22-2011-NIST_224_A350-startup6-scaled\u001b[0m\n",
      " - Date: 2011-07-22T14:50:16\n",
      " - Heat flux (kw/m^2): None\n",
      " - Material: None\n",
      " - Specimen description: None\n",
      " - General comments: square wave for delay calc\n",
      "\u001b[38;5;45mTest: 7-22-2011-NIST_224_A350-startup7-scaled\u001b[0m\n",
      " - Date: 2011-07-22T15:33:12\n",
      " - Heat flux (kw/m^2): None\n",
      " - Material: None\n",
      " - Specimen description: None\n",
      " - General comments: square wave for delay calc\n",
      "\u001b[38;5;45mTest: 7-22-2011-NIST_224_A350-startup8-scaled\u001b[0m\n",
      " - Date: 2011-07-22T15:55:27\n",
      " - Heat flux (kw/m^2): None\n",
      " - Material: None\n",
      " - Specimen description: None\n",
      " - General comments: square wave for delay calc\n",
      "\u001b[38;5;45mTest: 7-22-2011-NIST_224_A350-startup9-scaled\u001b[0m\n",
      " - Date: 2011-07-22T16:00:21\n",
      " - Heat flux (kw/m^2): None\n",
      " - Material: None\n",
      " - Specimen description: None\n",
      " - General comments: square wave for delay calc\n",
      "\u001b[38;5;45mTest: 7-25-2011-NIST_224_A350-Cfactor-scaled\u001b[0m\n",
      " - Date: 2011-07-25T11:49:39\n",
      " - Heat flux (kw/m^2): None\n",
      " - Material: None\n",
      " - Specimen description: None\n",
      " - General comments: calibrate\n",
      "\u001b[38;5;45mTest: 7-25-2011-NIST_224_A350-ConeSet50-scaled\u001b[0m\n",
      " - Date: 2011-07-25T12:16:02\n",
      " - Heat flux (kw/m^2): None\n",
      " - Material: None\n",
      " - Specimen description: None\n",
      " - General comments: set cone temperature for 50 kW/m2 for PMMA test\n",
      "\u001b[38;5;45mTest: 7-25-2011-NIST_224_A350-setup-scaled\u001b[0m\n",
      " - Date: 2011-07-25T11:13:03\n",
      " - Heat flux (kw/m^2): None\n",
      " - Material: None\n",
      " - Specimen description: None\n",
      " - General comments: calibrate\n",
      "\u001b[38;5;45mTest: 7-27-2011-NIST_224_A350-ConeSet50b-scaled\u001b[0m\n",
      " - Date: 2011-07-27T14:45:36\n",
      " - Heat flux (kw/m^2): None\n",
      " - Material: None\n",
      " - Specimen description: None\n",
      " - General comments: set cone temperature for 50 kW/m2 for PMMA test\n",
      "\u001b[38;5;45mTest: 7-27-2011-NIST_224_A350-ConeSet50c-scaled\u001b[0m\n",
      " - Date: 2011-07-27T15:36:16\n",
      " - Heat flux (kw/m^2): None\n",
      " - Material: None\n",
      " - Specimen description: None\n",
      " - General comments: set cone temperature for 50 kW/m2 for PMMA test\n",
      "\u001b[38;5;45mTest: 8-10-2011-NIST_224_A350-startup-scaled\u001b[0m\n",
      " - Date: 2011-10-08T11:02:23\n",
      " - Heat flux (kw/m^2): None\n",
      " - Material: None\n",
      " - Specimen description: None\n",
      " - General comments: calibrate analyzers\n",
      "\u001b[38;5;45mTest: 8-10-2011-NIST_224_A350-startup2-scaled\u001b[0m\n",
      " - Date: 2011-10-08T11:53:35\n",
      " - Heat flux (kw/m^2): None\n",
      " - Material: None\n",
      " - Specimen description: None\n",
      " - General comments: calibrate analyzers\n",
      "\u001b[38;5;45mTest: 8-15-2011-NIST_224_A350-checkout-scaled\u001b[0m\n",
      " - Date: 2011-08-15T13:32:18\n",
      " - Heat flux (kw/m^2): None\n",
      " - Material: None\n",
      " - Specimen description: None\n",
      " - General comments: check program with databridge and custom disply\n",
      "\u001b[38;5;45mTest: 8-16-2011-NIST_224_A350-checkoutA-scaled\u001b[0m\n",
      " - Date: 2011-08-16T13:25:50\n",
      " - Heat flux (kw/m^2): None\n",
      " - Material: None\n",
      " - Specimen description: None\n",
      " - General comments: check program with databridge and custom disply\n",
      "\u001b[38;5;45mTest: 8-16-2011-NIST_224_A350-checkoutB-scaled\u001b[0m\n",
      " - Date: 2011-08-16T14:40:45\n",
      " - Heat flux (kw/m^2): None\n",
      " - Material: None\n",
      " - Specimen description: None\n",
      " - General comments: check program with databridge and custom disply\n",
      "\u001b[38;5;45mTest: 8-17-2011-NIST_224_A350-debug_conedisplay-scaled\u001b[0m\n",
      " - Date: 2011-08-17T11:10:52\n",
      " - Heat flux (kw/m^2): None\n",
      " - Material: None\n",
      " - Specimen description: None\n",
      " - General comments: Run_Cone Display \n",
      "\u001b[38;5;45mTest: 8-17-2011-NIST_224_A350-debug_conedisplay2-scaled\u001b[0m\n",
      " - Date: 2011-08-17T11:23:14\n",
      " - Heat flux (kw/m^2): None\n",
      " - Material: None\n",
      " - Specimen description: None\n",
      " - General comments: debug cone display 2\n",
      "\u001b[38;5;45mTest: 8-5-2011-NIST_224_A350-checkout-scaled\u001b[0m\n",
      " - Date: 2011-05-08T15:48:21\n",
      " - Heat flux (kw/m^2): None\n",
      " - Material: None\n",
      " - Specimen description: None\n",
      " - General comments: test custom display bridge bug\n",
      "\u001b[38;5;45mTest: 8-5-2011-NIST_224_A350-methane_Cfactor-scaled\u001b[0m\n",
      " - Date: 2011-05-08T11:50:57\n",
      " - Heat flux (kw/m^2): None\n",
      " - Material: None\n",
      " - Specimen description: None\n",
      " - General comments: calibrate HRR w/5 kW\n",
      "\u001b[38;5;45mTest: 8-5-2011-NIST_224_A350-methane_Cfactor2-scaled\u001b[0m\n",
      " - Date: 2011-05-08T12:07:51\n",
      " - Heat flux (kw/m^2): None\n",
      " - Material: None\n",
      " - Specimen description: None\n",
      " - General comments: calibrate HRR w/5 kW\n",
      "\u001b[38;5;45mTest: 8-5-2011-NIST_224_A350-setup-scaled\u001b[0m\n",
      " - Date: 2011-05-08T11:23:34\n",
      " - Heat flux (kw/m^2): None\n",
      " - Material: None\n",
      " - Specimen description: None\n",
      " - General comments: calibrate analyzers\n",
      "\u001b[38;5;45mTest: 8-5-2011-NIST_224_A350-test-scaled\u001b[0m\n",
      " - Date: 2011-05-08T10:10:27\n",
      " - Heat flux (kw/m^2): None\n",
      " - Material: None\n",
      " - Specimen description: None\n",
      " - General comments: test\n",
      "\u001b[38;5;45mTest: 9-16-2011-NIST_224_A350-checkflow-scaled\u001b[0m\n",
      " - Date: 2011-09-16T14:47:54\n",
      " - Heat flux (kw/m^2): None\n",
      " - Material: None\n",
      " - Specimen description: None\n",
      " - General comments: chamber flow air\n",
      "\u001b[38;5;45mTest: 9-2-2011-NIST_224_A350-checkout-scaled\u001b[0m\n",
      " - Date: 2011-02-09T13:53:36\n",
      " - Heat flux (kw/m^2): None\n",
      " - Material: None\n",
      " - Specimen description: None\n",
      " - General comments: checkout chamber flow\n",
      "\u001b[38;5;45mTest: 9-5-2011-NIST_224_A350-checkout-scaled\u001b[0m\n",
      " - Date: 2011-05-09T16:28:35\n",
      " - Heat flux (kw/m^2): None\n",
      " - Material: None\n",
      " - Specimen description: None\n",
      " - General comments: checkout new version\n",
      "\u001b[38;5;45mTest: 9-8-2011-NIST_224_A350-checkout-scaled\u001b[0m\n",
      " - Date: 2011-08-09T17:16:02\n",
      " - Heat flux (kw/m^2): None\n",
      " - Material: None\n",
      " - Specimen description: None\n",
      " - General comments: Check displays\n"
     ]
    }
   ],
   "source": [
    "# print out material info again:\n",
    "\n",
    "metadata_files = list(Path(input_path / Path(source_widget.value)).glob(\"**/*.json\"))\n",
    "\n",
    "for metadata_file in metadata_files:\n",
    "    test_name = metadata_file.stem.replace(\"_metadata\", \"\")\n",
    "    metadata = json.load(metadata_file.open())\n",
    "    print(colorize(f\"Test: {test_name}\", \"blue\"))\n",
    "    print(f\" - Date: {metadata.get('date')}\")\n",
    "    print(f\" - Heat flux (kw/m^2): {metadata.get('heat_flux_kw/m^2')}\")\n",
    "    print(f\" - Material: {metadata.get('material_name')}\")\n",
    "    print(f\" - Specimen description: {metadata.get(\"specimen_description\")}\")\n",
    "    print(f\" - General comments: {metadata.get('comments')}\")"
   ]
  },
  {
   "cell_type": "code",
   "execution_count": null,
   "id": "7e4b04a8-2fe8-4c98-9f21-8ac3f8697a21",
   "metadata": {},
   "outputs": [],
   "source": []
  },
  {
   "cell_type": "code",
   "execution_count": null,
   "id": "eb776ae9-e441-46ad-b895-c86fb1fbda4b",
   "metadata": {},
   "outputs": [],
   "source": []
  }
 ],
 "metadata": {
  "kernelspec": {
   "display_name": "Python 3 (ipykernel)",
   "language": "python",
   "name": "python3"
  },
  "language_info": {
   "codemirror_mode": {
    "name": "ipython",
    "version": 3
   },
   "file_extension": ".py",
   "mimetype": "text/x-python",
   "name": "python",
   "nbconvert_exporter": "python",
   "pygments_lexer": "ipython3",
   "version": "3.12.4"
  }
 },
 "nbformat": 4,
 "nbformat_minor": 5
}
