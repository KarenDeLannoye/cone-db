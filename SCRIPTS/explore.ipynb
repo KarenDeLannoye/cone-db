{
 "cells": [
  {
   "cell_type": "markdown",
   "id": "b6f31837",
   "metadata": {},
   "source": [
    "# Visualizing cone calorimeter data\n",
    "Note: for best results, view this notebook in VSCode with the Jupyter extension installed, not JupyterLab."
   ]
  },
  {
   "cell_type": "code",
   "execution_count": 24,
   "id": "0470f63e-fe41-4874-81cc-9df19a8563bc",
   "metadata": {},
   "outputs": [
    {
     "name": "stdout",
     "output_type": "stream",
     "text": [
      "Requirement already satisfied: pandas in c:\\users\\txs\\appdata\\local\\programs\\python\\python312\\lib\\site-packages (2.2.2)\n",
      "Requirement already satisfied: numpy>=1.26.0 in c:\\users\\txs\\appdata\\local\\programs\\python\\python312\\lib\\site-packages (from pandas) (2.0.0)\n",
      "Requirement already satisfied: python-dateutil>=2.8.2 in c:\\users\\txs\\appdata\\local\\programs\\python\\python312\\lib\\site-packages (from pandas) (2.9.0.post0)\n",
      "Requirement already satisfied: pytz>=2020.1 in c:\\users\\txs\\appdata\\local\\programs\\python\\python312\\lib\\site-packages (from pandas) (2024.1)\n",
      "Requirement already satisfied: tzdata>=2022.7 in c:\\users\\txs\\appdata\\local\\programs\\python\\python312\\lib\\site-packages (from pandas) (2024.1)\n",
      "Requirement already satisfied: six>=1.5 in c:\\users\\txs\\appdata\\local\\programs\\python\\python312\\lib\\site-packages (from python-dateutil>=2.8.2->pandas) (1.16.0)\n",
      "Note: you may need to restart the kernel to use updated packages.\n",
      "Requirement already satisfied: plotly in c:\\users\\txs\\appdata\\local\\programs\\python\\python312\\lib\\site-packages (5.22.0)\n",
      "Requirement already satisfied: tenacity>=6.2.0 in c:\\users\\txs\\appdata\\local\\programs\\python\\python312\\lib\\site-packages (from plotly) (8.5.0)\n",
      "Requirement already satisfied: packaging in c:\\users\\txs\\appdata\\local\\programs\\python\\python312\\lib\\site-packages (from plotly) (24.1)\n",
      "Note: you may need to restart the kernel to use updated packages.\n",
      "Requirement already satisfied: scipy in c:\\users\\txs\\appdata\\local\\programs\\python\\python312\\lib\\site-packages (1.14.0)\n",
      "Requirement already satisfied: numpy<2.3,>=1.23.5 in c:\\users\\txs\\appdata\\local\\programs\\python\\python312\\lib\\site-packages (from scipy) (2.0.0)\n",
      "Note: you may need to restart the kernel to use updated packages.\n",
      "Requirement already satisfied: ipywidgets in c:\\users\\txs\\appdata\\local\\programs\\python\\python312\\lib\\site-packages (8.1.3)\n",
      "Requirement already satisfied: comm>=0.1.3 in c:\\users\\txs\\appdata\\local\\programs\\python\\python312\\lib\\site-packages (from ipywidgets) (0.2.2)\n",
      "Requirement already satisfied: ipython>=6.1.0 in c:\\users\\txs\\appdata\\local\\programs\\python\\python312\\lib\\site-packages (from ipywidgets) (8.26.0)\n",
      "Requirement already satisfied: traitlets>=4.3.1 in c:\\users\\txs\\appdata\\local\\programs\\python\\python312\\lib\\site-packages (from ipywidgets) (5.14.3)\n",
      "Requirement already satisfied: widgetsnbextension~=4.0.11 in c:\\users\\txs\\appdata\\local\\programs\\python\\python312\\lib\\site-packages (from ipywidgets) (4.0.11)\n",
      "Requirement already satisfied: jupyterlab-widgets~=3.0.11 in c:\\users\\txs\\appdata\\local\\programs\\python\\python312\\lib\\site-packages (from ipywidgets) (3.0.11)\n",
      "Requirement already satisfied: decorator in c:\\users\\txs\\appdata\\local\\programs\\python\\python312\\lib\\site-packages (from ipython>=6.1.0->ipywidgets) (5.1.1)\n",
      "Requirement already satisfied: jedi>=0.16 in c:\\users\\txs\\appdata\\local\\programs\\python\\python312\\lib\\site-packages (from ipython>=6.1.0->ipywidgets) (0.19.1)\n",
      "Requirement already satisfied: matplotlib-inline in c:\\users\\txs\\appdata\\local\\programs\\python\\python312\\lib\\site-packages (from ipython>=6.1.0->ipywidgets) (0.1.7)\n",
      "Requirement already satisfied: prompt-toolkit<3.1.0,>=3.0.41 in c:\\users\\txs\\appdata\\local\\programs\\python\\python312\\lib\\site-packages (from ipython>=6.1.0->ipywidgets) (3.0.47)\n",
      "Requirement already satisfied: pygments>=2.4.0 in c:\\users\\txs\\appdata\\local\\programs\\python\\python312\\lib\\site-packages (from ipython>=6.1.0->ipywidgets) (2.18.0)\n",
      "Requirement already satisfied: stack-data in c:\\users\\txs\\appdata\\local\\programs\\python\\python312\\lib\\site-packages (from ipython>=6.1.0->ipywidgets) (0.6.3)\n",
      "Requirement already satisfied: colorama in c:\\users\\txs\\appdata\\local\\programs\\python\\python312\\lib\\site-packages (from ipython>=6.1.0->ipywidgets) (0.4.6)\n",
      "Requirement already satisfied: parso<0.9.0,>=0.8.3 in c:\\users\\txs\\appdata\\local\\programs\\python\\python312\\lib\\site-packages (from jedi>=0.16->ipython>=6.1.0->ipywidgets) (0.8.4)\n",
      "Requirement already satisfied: wcwidth in c:\\users\\txs\\appdata\\local\\programs\\python\\python312\\lib\\site-packages (from prompt-toolkit<3.1.0,>=3.0.41->ipython>=6.1.0->ipywidgets) (0.2.13)\n",
      "Requirement already satisfied: executing>=1.2.0 in c:\\users\\txs\\appdata\\local\\programs\\python\\python312\\lib\\site-packages (from stack-data->ipython>=6.1.0->ipywidgets) (2.0.1)\n",
      "Requirement already satisfied: asttokens>=2.1.0 in c:\\users\\txs\\appdata\\local\\programs\\python\\python312\\lib\\site-packages (from stack-data->ipython>=6.1.0->ipywidgets) (2.4.1)\n",
      "Requirement already satisfied: pure-eval in c:\\users\\txs\\appdata\\local\\programs\\python\\python312\\lib\\site-packages (from stack-data->ipython>=6.1.0->ipywidgets) (0.2.2)\n",
      "Requirement already satisfied: six>=1.12.0 in c:\\users\\txs\\appdata\\local\\programs\\python\\python312\\lib\\site-packages (from asttokens>=2.1.0->stack-data->ipython>=6.1.0->ipywidgets) (1.16.0)\n",
      "Note: you may need to restart the kernel to use updated packages.\n"
     ]
    }
   ],
   "source": [
    "# install dependencies\n",
    "%pip install pandas\n",
    "%pip install plotly\n",
    "%pip install scipy\n",
    "%pip install ipywidgets"
   ]
  },
  {
   "cell_type": "code",
   "execution_count": 25,
   "id": "b981e5d8-b8a6-4c7c-9d00-3f0351c14de2",
   "metadata": {},
   "outputs": [],
   "source": [
    "import pandas as pd\n",
    "import scipy\n",
    "\n",
    "import json\n",
    "from pathlib import Path\n",
    "from datetime import date\n",
    "\n",
    "import ipywidgets as widgets\n",
    "from IPython.display import display, clear_output\n",
    "\n",
    "import plotly.express as px\n",
    "import plotly.graph_objects as go\n",
    "from plotly.subplots import make_subplots"
   ]
  },
  {
   "cell_type": "code",
   "execution_count": 26,
   "id": "acea3600",
   "metadata": {},
   "outputs": [],
   "source": [
    "def colorize(text, color):\n",
    "    if color == \"red\":\n",
    "        color = 196\n",
    "    elif color == \"green\":\n",
    "        color = 45\n",
    "    elif color == \"blue\":\n",
    "        color = 80\n",
    "    elif color == \"yellow\":\n",
    "        color = 226\n",
    "    elif color == \"purple\":\n",
    "        color = 92\n",
    "    elif color == \"cyan\":\n",
    "        color = 123\n",
    "    elif color == \"white\":\n",
    "        color = 15\n",
    "    elif color == \"black\":\n",
    "        color = 0\n",
    "    else:\n",
    "        color = 15\n",
    "\n",
    "    return f\"\\x1b[38;5;{color}m{text}\\x1b[0m\""
   ]
  },
  {
   "cell_type": "code",
   "execution_count": 45,
   "id": "15ee8501-9099-4366-b1df-8cc72f148d85",
   "metadata": {},
   "outputs": [
    {
     "data": {
      "application/vnd.jupyter.widget-view+json": {
       "model_id": "9b8fda3e817d426ab0a59eccd8b7e376",
       "version_major": 2,
       "version_minor": 0
      },
      "text/plain": [
       "VBox(children=(Dropdown(description='Source:', options=('FAA', 'FTT', 'MIDAS'), value='FAA'), Dropdown(descrip…"
      ]
     },
     "metadata": {},
     "output_type": "display_data"
    },
    {
     "data": {
      "application/vnd.plotly.v1+json": {
       "config": {
        "plotlyServerURL": "https://plot.ly"
       },
       "data": [],
       "layout": {
        "template": {
         "data": {
          "bar": [
           {
            "error_x": {
             "color": "#2a3f5f"
            },
            "error_y": {
             "color": "#2a3f5f"
            },
            "marker": {
             "line": {
              "color": "#E5ECF6",
              "width": 0.5
             },
             "pattern": {
              "fillmode": "overlay",
              "size": 10,
              "solidity": 0.2
             }
            },
            "type": "bar"
           }
          ],
          "barpolar": [
           {
            "marker": {
             "line": {
              "color": "#E5ECF6",
              "width": 0.5
             },
             "pattern": {
              "fillmode": "overlay",
              "size": 10,
              "solidity": 0.2
             }
            },
            "type": "barpolar"
           }
          ],
          "carpet": [
           {
            "aaxis": {
             "endlinecolor": "#2a3f5f",
             "gridcolor": "white",
             "linecolor": "white",
             "minorgridcolor": "white",
             "startlinecolor": "#2a3f5f"
            },
            "baxis": {
             "endlinecolor": "#2a3f5f",
             "gridcolor": "white",
             "linecolor": "white",
             "minorgridcolor": "white",
             "startlinecolor": "#2a3f5f"
            },
            "type": "carpet"
           }
          ],
          "choropleth": [
           {
            "colorbar": {
             "outlinewidth": 0,
             "ticks": ""
            },
            "type": "choropleth"
           }
          ],
          "contour": [
           {
            "colorbar": {
             "outlinewidth": 0,
             "ticks": ""
            },
            "colorscale": [
             [
              0,
              "#0d0887"
             ],
             [
              0.1111111111111111,
              "#46039f"
             ],
             [
              0.2222222222222222,
              "#7201a8"
             ],
             [
              0.3333333333333333,
              "#9c179e"
             ],
             [
              0.4444444444444444,
              "#bd3786"
             ],
             [
              0.5555555555555556,
              "#d8576b"
             ],
             [
              0.6666666666666666,
              "#ed7953"
             ],
             [
              0.7777777777777778,
              "#fb9f3a"
             ],
             [
              0.8888888888888888,
              "#fdca26"
             ],
             [
              1,
              "#f0f921"
             ]
            ],
            "type": "contour"
           }
          ],
          "contourcarpet": [
           {
            "colorbar": {
             "outlinewidth": 0,
             "ticks": ""
            },
            "type": "contourcarpet"
           }
          ],
          "heatmap": [
           {
            "colorbar": {
             "outlinewidth": 0,
             "ticks": ""
            },
            "colorscale": [
             [
              0,
              "#0d0887"
             ],
             [
              0.1111111111111111,
              "#46039f"
             ],
             [
              0.2222222222222222,
              "#7201a8"
             ],
             [
              0.3333333333333333,
              "#9c179e"
             ],
             [
              0.4444444444444444,
              "#bd3786"
             ],
             [
              0.5555555555555556,
              "#d8576b"
             ],
             [
              0.6666666666666666,
              "#ed7953"
             ],
             [
              0.7777777777777778,
              "#fb9f3a"
             ],
             [
              0.8888888888888888,
              "#fdca26"
             ],
             [
              1,
              "#f0f921"
             ]
            ],
            "type": "heatmap"
           }
          ],
          "heatmapgl": [
           {
            "colorbar": {
             "outlinewidth": 0,
             "ticks": ""
            },
            "colorscale": [
             [
              0,
              "#0d0887"
             ],
             [
              0.1111111111111111,
              "#46039f"
             ],
             [
              0.2222222222222222,
              "#7201a8"
             ],
             [
              0.3333333333333333,
              "#9c179e"
             ],
             [
              0.4444444444444444,
              "#bd3786"
             ],
             [
              0.5555555555555556,
              "#d8576b"
             ],
             [
              0.6666666666666666,
              "#ed7953"
             ],
             [
              0.7777777777777778,
              "#fb9f3a"
             ],
             [
              0.8888888888888888,
              "#fdca26"
             ],
             [
              1,
              "#f0f921"
             ]
            ],
            "type": "heatmapgl"
           }
          ],
          "histogram": [
           {
            "marker": {
             "pattern": {
              "fillmode": "overlay",
              "size": 10,
              "solidity": 0.2
             }
            },
            "type": "histogram"
           }
          ],
          "histogram2d": [
           {
            "colorbar": {
             "outlinewidth": 0,
             "ticks": ""
            },
            "colorscale": [
             [
              0,
              "#0d0887"
             ],
             [
              0.1111111111111111,
              "#46039f"
             ],
             [
              0.2222222222222222,
              "#7201a8"
             ],
             [
              0.3333333333333333,
              "#9c179e"
             ],
             [
              0.4444444444444444,
              "#bd3786"
             ],
             [
              0.5555555555555556,
              "#d8576b"
             ],
             [
              0.6666666666666666,
              "#ed7953"
             ],
             [
              0.7777777777777778,
              "#fb9f3a"
             ],
             [
              0.8888888888888888,
              "#fdca26"
             ],
             [
              1,
              "#f0f921"
             ]
            ],
            "type": "histogram2d"
           }
          ],
          "histogram2dcontour": [
           {
            "colorbar": {
             "outlinewidth": 0,
             "ticks": ""
            },
            "colorscale": [
             [
              0,
              "#0d0887"
             ],
             [
              0.1111111111111111,
              "#46039f"
             ],
             [
              0.2222222222222222,
              "#7201a8"
             ],
             [
              0.3333333333333333,
              "#9c179e"
             ],
             [
              0.4444444444444444,
              "#bd3786"
             ],
             [
              0.5555555555555556,
              "#d8576b"
             ],
             [
              0.6666666666666666,
              "#ed7953"
             ],
             [
              0.7777777777777778,
              "#fb9f3a"
             ],
             [
              0.8888888888888888,
              "#fdca26"
             ],
             [
              1,
              "#f0f921"
             ]
            ],
            "type": "histogram2dcontour"
           }
          ],
          "mesh3d": [
           {
            "colorbar": {
             "outlinewidth": 0,
             "ticks": ""
            },
            "type": "mesh3d"
           }
          ],
          "parcoords": [
           {
            "line": {
             "colorbar": {
              "outlinewidth": 0,
              "ticks": ""
             }
            },
            "type": "parcoords"
           }
          ],
          "pie": [
           {
            "automargin": true,
            "type": "pie"
           }
          ],
          "scatter": [
           {
            "fillpattern": {
             "fillmode": "overlay",
             "size": 10,
             "solidity": 0.2
            },
            "type": "scatter"
           }
          ],
          "scatter3d": [
           {
            "line": {
             "colorbar": {
              "outlinewidth": 0,
              "ticks": ""
             }
            },
            "marker": {
             "colorbar": {
              "outlinewidth": 0,
              "ticks": ""
             }
            },
            "type": "scatter3d"
           }
          ],
          "scattercarpet": [
           {
            "marker": {
             "colorbar": {
              "outlinewidth": 0,
              "ticks": ""
             }
            },
            "type": "scattercarpet"
           }
          ],
          "scattergeo": [
           {
            "marker": {
             "colorbar": {
              "outlinewidth": 0,
              "ticks": ""
             }
            },
            "type": "scattergeo"
           }
          ],
          "scattergl": [
           {
            "marker": {
             "colorbar": {
              "outlinewidth": 0,
              "ticks": ""
             }
            },
            "type": "scattergl"
           }
          ],
          "scattermapbox": [
           {
            "marker": {
             "colorbar": {
              "outlinewidth": 0,
              "ticks": ""
             }
            },
            "type": "scattermapbox"
           }
          ],
          "scatterpolar": [
           {
            "marker": {
             "colorbar": {
              "outlinewidth": 0,
              "ticks": ""
             }
            },
            "type": "scatterpolar"
           }
          ],
          "scatterpolargl": [
           {
            "marker": {
             "colorbar": {
              "outlinewidth": 0,
              "ticks": ""
             }
            },
            "type": "scatterpolargl"
           }
          ],
          "scatterternary": [
           {
            "marker": {
             "colorbar": {
              "outlinewidth": 0,
              "ticks": ""
             }
            },
            "type": "scatterternary"
           }
          ],
          "surface": [
           {
            "colorbar": {
             "outlinewidth": 0,
             "ticks": ""
            },
            "colorscale": [
             [
              0,
              "#0d0887"
             ],
             [
              0.1111111111111111,
              "#46039f"
             ],
             [
              0.2222222222222222,
              "#7201a8"
             ],
             [
              0.3333333333333333,
              "#9c179e"
             ],
             [
              0.4444444444444444,
              "#bd3786"
             ],
             [
              0.5555555555555556,
              "#d8576b"
             ],
             [
              0.6666666666666666,
              "#ed7953"
             ],
             [
              0.7777777777777778,
              "#fb9f3a"
             ],
             [
              0.8888888888888888,
              "#fdca26"
             ],
             [
              1,
              "#f0f921"
             ]
            ],
            "type": "surface"
           }
          ],
          "table": [
           {
            "cells": {
             "fill": {
              "color": "#EBF0F8"
             },
             "line": {
              "color": "white"
             }
            },
            "header": {
             "fill": {
              "color": "#C8D4E3"
             },
             "line": {
              "color": "white"
             }
            },
            "type": "table"
           }
          ]
         },
         "layout": {
          "annotationdefaults": {
           "arrowcolor": "#2a3f5f",
           "arrowhead": 0,
           "arrowwidth": 1
          },
          "autotypenumbers": "strict",
          "coloraxis": {
           "colorbar": {
            "outlinewidth": 0,
            "ticks": ""
           }
          },
          "colorscale": {
           "diverging": [
            [
             0,
             "#8e0152"
            ],
            [
             0.1,
             "#c51b7d"
            ],
            [
             0.2,
             "#de77ae"
            ],
            [
             0.3,
             "#f1b6da"
            ],
            [
             0.4,
             "#fde0ef"
            ],
            [
             0.5,
             "#f7f7f7"
            ],
            [
             0.6,
             "#e6f5d0"
            ],
            [
             0.7,
             "#b8e186"
            ],
            [
             0.8,
             "#7fbc41"
            ],
            [
             0.9,
             "#4d9221"
            ],
            [
             1,
             "#276419"
            ]
           ],
           "sequential": [
            [
             0,
             "#0d0887"
            ],
            [
             0.1111111111111111,
             "#46039f"
            ],
            [
             0.2222222222222222,
             "#7201a8"
            ],
            [
             0.3333333333333333,
             "#9c179e"
            ],
            [
             0.4444444444444444,
             "#bd3786"
            ],
            [
             0.5555555555555556,
             "#d8576b"
            ],
            [
             0.6666666666666666,
             "#ed7953"
            ],
            [
             0.7777777777777778,
             "#fb9f3a"
            ],
            [
             0.8888888888888888,
             "#fdca26"
            ],
            [
             1,
             "#f0f921"
            ]
           ],
           "sequentialminus": [
            [
             0,
             "#0d0887"
            ],
            [
             0.1111111111111111,
             "#46039f"
            ],
            [
             0.2222222222222222,
             "#7201a8"
            ],
            [
             0.3333333333333333,
             "#9c179e"
            ],
            [
             0.4444444444444444,
             "#bd3786"
            ],
            [
             0.5555555555555556,
             "#d8576b"
            ],
            [
             0.6666666666666666,
             "#ed7953"
            ],
            [
             0.7777777777777778,
             "#fb9f3a"
            ],
            [
             0.8888888888888888,
             "#fdca26"
            ],
            [
             1,
             "#f0f921"
            ]
           ]
          },
          "colorway": [
           "#636efa",
           "#EF553B",
           "#00cc96",
           "#ab63fa",
           "#FFA15A",
           "#19d3f3",
           "#FF6692",
           "#B6E880",
           "#FF97FF",
           "#FECB52"
          ],
          "font": {
           "color": "#2a3f5f"
          },
          "geo": {
           "bgcolor": "white",
           "lakecolor": "white",
           "landcolor": "#E5ECF6",
           "showlakes": true,
           "showland": true,
           "subunitcolor": "white"
          },
          "hoverlabel": {
           "align": "left"
          },
          "hovermode": "closest",
          "mapbox": {
           "style": "light"
          },
          "paper_bgcolor": "white",
          "plot_bgcolor": "#E5ECF6",
          "polar": {
           "angularaxis": {
            "gridcolor": "white",
            "linecolor": "white",
            "ticks": ""
           },
           "bgcolor": "#E5ECF6",
           "radialaxis": {
            "gridcolor": "white",
            "linecolor": "white",
            "ticks": ""
           }
          },
          "scene": {
           "xaxis": {
            "backgroundcolor": "#E5ECF6",
            "gridcolor": "white",
            "gridwidth": 2,
            "linecolor": "white",
            "showbackground": true,
            "ticks": "",
            "zerolinecolor": "white"
           },
           "yaxis": {
            "backgroundcolor": "#E5ECF6",
            "gridcolor": "white",
            "gridwidth": 2,
            "linecolor": "white",
            "showbackground": true,
            "ticks": "",
            "zerolinecolor": "white"
           },
           "zaxis": {
            "backgroundcolor": "#E5ECF6",
            "gridcolor": "white",
            "gridwidth": 2,
            "linecolor": "white",
            "showbackground": true,
            "ticks": "",
            "zerolinecolor": "white"
           }
          },
          "shapedefaults": {
           "line": {
            "color": "#2a3f5f"
           }
          },
          "ternary": {
           "aaxis": {
            "gridcolor": "white",
            "linecolor": "white",
            "ticks": ""
           },
           "baxis": {
            "gridcolor": "white",
            "linecolor": "white",
            "ticks": ""
           },
           "bgcolor": "#E5ECF6",
           "caxis": {
            "gridcolor": "white",
            "linecolor": "white",
            "ticks": ""
           }
          },
          "title": {
           "x": 0.05
          },
          "xaxis": {
           "automargin": true,
           "gridcolor": "white",
           "linecolor": "white",
           "ticks": "",
           "title": {
            "standoff": 15
           },
           "zerolinecolor": "white",
           "zerolinewidth": 2
          },
          "yaxis": {
           "automargin": true,
           "gridcolor": "white",
           "linecolor": "white",
           "ticks": "",
           "title": {
            "standoff": 15
           },
           "zerolinecolor": "white",
           "zerolinewidth": 2
          }
         }
        },
        "xaxis": {
         "anchor": "y",
         "domain": [
          0,
          0.94
         ]
        },
        "yaxis": {
         "anchor": "x",
         "domain": [
          0,
          1
         ]
        },
        "yaxis2": {
         "anchor": "x",
         "overlaying": "y",
         "side": "right"
        }
       }
      }
     },
     "metadata": {},
     "output_type": "display_data"
    }
   ],
   "source": [
    "# some basic setup\n",
    "out = widgets.Output()\n",
    "\n",
    "input_path = Path(\"../OUTPUT/\")\n",
    "\n",
    "source_widget = widgets.Dropdown(options=[x.name for x in input_path.iterdir() if x.is_dir()], description=\"Source:\")\n",
    "\n",
    "metadata_files = list(Path(input_path / Path(source_widget.value)).glob(\"**/*.json\"))\n",
    "\n",
    "filename_widget = widgets.Dropdown(options=[str(x.stem).replace(\"_metadata\", \"\") for x in metadata_files], description=\"Filename:\")\n",
    "\n",
    "data_file_path = Path(filename_widget.value + \"_data.csv\")\n",
    "data = pd.read_csv(input_path / Path(source_widget.value) / data_file_path)\n",
    "\n",
    "# UI code\n",
    "\n",
    "def update_folder(event=None):\n",
    "    # get test metadata\n",
    "    global metadata_files\n",
    "    metadata_files = list(Path(input_path / Path(source_widget.value)).glob(\"**/*.json\"))\n",
    "\n",
    "    global filename_widget\n",
    "    filename_widget = widgets.Dropdown(options=[str(x.stem).replace(\"_metadata\", \"\") for x in metadata_files], description=\"Filename:\")\n",
    "\n",
    "    print(\"filename\")\n",
    "\n",
    "    update_data()\n",
    "\n",
    "# Select X & Y axis\n",
    "x_axis_widget = widgets.Dropdown(description='X axis:', options=data.columns)\n",
    "y_axis_widget = widgets.Dropdown(description='Y axis:', options=data.columns)\n",
    "sec_y_axis_widget = widgets.Dropdown(description='Sec. Y axis:', options=data.columns)\n",
    "sec_x_axis_widget = widgets.Dropdown(description='Sec. X axis:', options=data.columns)\n",
    "\n",
    "y_max = widgets.FloatText(description='Y max:', value=0)\n",
    "y_min = widgets.FloatText(description='Y min:', value=0)\n",
    "y_scale_enabled = widgets.Checkbox(description='Y scale:', value=False)\n",
    "savgol_filter_enabled = widgets.Checkbox(description='Savgol filter', value=False)\n",
    "\n",
    "sec_y_max = widgets.FloatText(description='Sec. Y max:', value=0)\n",
    "sec_y_min = widgets.FloatText(description='Sec. Y min:', value=0)\n",
    "sec_y_scale_enabled = widgets.Checkbox(description='Sec. Y scale:', value=False)\n",
    "sec_savgol_filter_enabled = widgets.Checkbox(description='Savgol filter', value=False)\n",
    "\n",
    "update = widgets.Button(description=\"Plot\", icon=\"check\")\n",
    "\n",
    "fig = make_subplots(specs=[[{\"secondary_y\": True}]])\n",
    "\n",
    "def update_data(event=None):\n",
    "    global data, data_file_path\n",
    "\n",
    "    data_file_path = Path(filename_widget.value + \"_data.csv\")\n",
    "    print(data_file_path)\n",
    "    data = pd.read_csv(input_path / Path(source_widget.value) / data_file_path)\n",
    "\n",
    "    x_axis_widget.options = data.columns\n",
    "    y_axis_widget.options = data.columns\n",
    "\n",
    "    sec_y_axis_widget.options = data.columns\n",
    "    sec_x_axis_widget.options = data.columns\n",
    "\n",
    "    plot()\n",
    "\n",
    "def plot(event=None):\n",
    "\n",
    "    clear_output()\n",
    "\n",
    "    primary_box = widgets.Box(children=[x_axis_widget, y_axis_widget, y_scale_enabled, y_min, y_max, savgol_filter_enabled])\n",
    "    secondary_box = widgets.Box(children=[sec_x_axis_widget, sec_y_axis_widget, sec_y_scale_enabled, sec_y_min, sec_y_max, sec_savgol_filter_enabled])\n",
    "    vbox = widgets.VBox([source_widget, filename_widget, primary_box, secondary_box, update])\n",
    "\n",
    "    display(vbox)\n",
    "\n",
    "    y_data = data[y_axis_widget.value]\n",
    "    x_data = data[x_axis_widget.value]\n",
    "\n",
    "    sec_y_data = data[sec_y_axis_widget.value]\n",
    "    sec_x_data = data[sec_x_axis_widget.value]\n",
    "\n",
    "    # Optionally add savgol filter to the data\n",
    "    if savgol_filter_enabled.value:\n",
    "        y_data = scipy.signal.savgol_filter(y_data, 51, 3)\n",
    "    if sec_savgol_filter_enabled.value:\n",
    "        sec_y_data = scipy.signal.savgol_filter(sec_y_data, 51, 3)\n",
    "\n",
    "    fig = make_subplots(specs=[[{\"secondary_y\": True}]])\n",
    "\n",
    "    if y_axis_widget.value != x_axis_widget.value:\n",
    "        fig.add_trace(go.Scatter(x=x_data, y=y_data, mode='lines', name=f\"{y_axis_widget.value} vs {x_axis_widget.value}\"), secondary_y=False)\n",
    "        if y_scale_enabled.value:\n",
    "            fig.update_yaxes(range=[y_min.value, y_max.value], autorange=False)\n",
    "    \n",
    "    if sec_y_axis_widget.value != sec_x_axis_widget.value:\n",
    "        fig.add_trace(go.Scatter(x=sec_x_data, y=sec_y_data, mode='lines', name=f\"{sec_y_axis_widget.value} vs {sec_x_axis_widget.value} (secondary)\"), secondary_y=True)\n",
    "        if sec_y_scale_enabled.value:\n",
    "            fig.update_yaxes(range=[sec_y_min.value, sec_y_max.value], secondary_y=True, autorange=False)\n",
    "\n",
    "    fig.show()\n",
    "\n",
    "# TODO: also allow setting the scale for each axis\n",
    "\n",
    "filename_widget.observe(update_data, names=\"value\")\n",
    "source_widget.observe(update_folder, names=\"value\")\n",
    "\n",
    "\n",
    "update.on_click(plot)\n",
    "\n",
    "plot()\n"
   ]
  },
  {
   "cell_type": "code",
   "execution_count": 33,
   "id": "6399812d",
   "metadata": {},
   "outputs": [
    {
     "name": "stdout",
     "output_type": "stream",
     "text": [
      "\u001b[38;5;80mSelected test: 8-5-2019-CONELAB-PVC-Fen-1-scaled\u001b[0m\n",
      " - Date: 2019-05-08T14:09:40\n",
      " - Heat flux (kw/m^2): None\n",
      " - Material: None\n",
      " - Specimen description: None\n",
      " - General comments: PVC Fence\n",
      "50 kW/m2\n",
      "\u001b[38;5;80mSelected test: 8-5-2019-CONELAB-PVC-Fen-2-scaled\u001b[0m\n",
      " - Date: 2019-05-08T14:47:25\n",
      " - Heat flux (kw/m^2): None\n",
      " - Material: None\n",
      " - Specimen description: None\n",
      " - General comments: PVC Fence\n",
      "50 kW/m2\n",
      "\u001b[38;5;80mSelected test: 8-5-2019-CONELAB-PVC-Fen-3-scaled\u001b[0m\n",
      " - Date: 2019-05-08T15:10:24\n",
      " - Heat flux (kw/m^2): None\n",
      " - Material: None\n",
      " - Specimen description: None\n",
      " - General comments: PVC Fence\n",
      "50 kW/m2\n",
      "\u001b[38;5;80mSelected test: 8-6-2019-CONELAB-Wood-Fen-1-scaled\u001b[0m\n",
      " - Date: 2019-06-08T13:11:15\n",
      " - Heat flux (kw/m^2): None\n",
      " - Material: None\n",
      " - Specimen description: None\n",
      " - General comments: Wood Fence\n",
      "50 kW/m2\n",
      "\u001b[38;5;80mSelected test: 8-6-2019-CONELAB-Wood-Fen-2-scaled\u001b[0m\n",
      " - Date: 2019-06-08T14:38:15\n",
      " - Heat flux (kw/m^2): None\n",
      " - Material: None\n",
      " - Specimen description: None\n",
      " - General comments: Wood Fence\n",
      "50 kW/m2\n",
      "\u001b[38;5;80mSelected test: 8-6-2019-CONELAB-Wood-Fen-3-scaled\u001b[0m\n",
      " - Date: 2019-06-08T15:57:11\n",
      " - Heat flux (kw/m^2): None\n",
      " - Material: None\n",
      " - Specimen description: None\n",
      " - General comments: Wood Fence\n",
      "50 kW/m2\n"
     ]
    }
   ],
   "source": [
    "# print out material info again:\n",
    "\n",
    "metadata_files = list(Path(input_path / Path(source_widget.value)).glob(\"**/*.json\"))\n",
    "\n",
    "for metadata_file in metadata_files:\n",
    "    test_name = metadata_file.stem.replace(\"_metadata\", \"\")\n",
    "    metadata = json.load(metadata_file.open())\n",
    "    print(colorize(f\"Selected test: {test_name}\", \"blue\"))\n",
    "    print(f\" - Date: {metadata.get('date')}\")\n",
    "    print(f\" - Heat flux (kw/m^2): {metadata.get('heat_flux_kw/m^2')}\")\n",
    "    print(f\" - Material: {metadata.get('material_name')}\")\n",
    "    print(f\" - Specimen description: {metadata.get(\"specimen_description\")}\")\n",
    "    print(f\" - General comments: {metadata.get('comments')}\")"
   ]
  }
 ],
 "metadata": {
  "kernelspec": {
   "display_name": "Python 3 (ipykernel)",
   "language": "python",
   "name": "python3"
  },
  "language_info": {
   "codemirror_mode": {
    "name": "ipython",
    "version": 3
   },
   "file_extension": ".py",
   "mimetype": "text/x-python",
   "name": "python",
   "nbconvert_exporter": "python",
   "pygments_lexer": "ipython3",
   "version": "3.12.4"
  }
 },
 "nbformat": 4,
 "nbformat_minor": 5
}
