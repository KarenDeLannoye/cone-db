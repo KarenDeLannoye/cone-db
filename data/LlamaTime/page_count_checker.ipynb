{
 "cells": [
  {
   "cell_type": "code",
   "execution_count": 13,
   "metadata": {},
   "outputs": [],
   "source": [
    "import os\n",
    "import PyPDF2\n",
    "import numpy as np\n",
    "from PyPDF2 import PdfReader\n",
    "import math\n",
    "import csv"
   ]
  },
  {
   "cell_type": "code",
   "execution_count": 16,
   "metadata": {},
   "outputs": [
    {
     "name": "stdout",
     "output_type": "stream",
     "text": [
      "Processing Subfolder: 20241021\n",
      "CSV saved for subfolder '20241021': c:\\Users\\smk19\\Documents\\co\\LlamaTime\\reports\\20241021_report.csv\n",
      "Processing Subfolder: 20241022\n",
      "CSV saved for subfolder '20241022': c:\\Users\\smk19\\Documents\\co\\LlamaTime\\reports\\20241022_report.csv\n",
      "Processing Subfolder: 20241024\n",
      "CSV saved for subfolder '20241024': c:\\Users\\smk19\\Documents\\co\\LlamaTime\\reports\\20241024_report.csv\n",
      "Processing Subfolder: 20241028\n",
      "CSV saved for subfolder '20241028': c:\\Users\\smk19\\Documents\\co\\LlamaTime\\reports\\20241028_report.csv\n",
      "Processing Subfolder: 20241029\n",
      "CSV saved for subfolder '20241029': c:\\Users\\smk19\\Documents\\co\\LlamaTime\\reports\\20241029_report.csv\n",
      "Processing Subfolder: 20241126\n",
      "CSV saved for subfolder '20241126': c:\\Users\\smk19\\Documents\\co\\LlamaTime\\reports\\20241126_report.csv\n",
      "Processing Subfolder: 20241202\n",
      "CSV saved for subfolder '20241202': c:\\Users\\smk19\\Documents\\co\\LlamaTime\\reports\\20241202_report.csv\n",
      "Processing Subfolder: 20241203\n",
      "CSV saved for subfolder '20241203': c:\\Users\\smk19\\Documents\\co\\LlamaTime\\reports\\20241203_report.csv\n",
      "Processing Subfolder: 20241205\n",
      "CSV saved for subfolder '20241205': c:\\Users\\smk19\\Documents\\co\\LlamaTime\\reports\\20241205_report.csv\n",
      "Processing Subfolder: BadFiles\n",
      "CSV saved for subfolder 'BadFiles': c:\\Users\\smk19\\Documents\\co\\LlamaTime\\reports\\BadFiles_report.csv\n",
      "Processing Subfolder: reports\n",
      "CSV saved for subfolder 'reports': c:\\Users\\smk19\\Documents\\co\\LlamaTime\\reports\\reports_report.csv\n"
     ]
    }
   ],
   "source": [
    "\n",
    "def get_pdf_page_count(pdf_file):\n",
    "    \"\"\"\n",
    "    Get the number of pages in a PDF file.\n",
    "    \"\"\"\n",
    "    try:\n",
    "        with open(pdf_file, \"rb\") as file:\n",
    "            reader = PdfReader(file)\n",
    "            return len(reader.pages)\n",
    "    except Exception as e:\n",
    "        print(f\"Error reading {pdf_file}: {e}\")\n",
    "        return None  # Return None if there's an error opening the PDF\n",
    "\n",
    "def analyze_pdfs_in_subfolder(subfolder_path, output_folder):\n",
    "    \"\"\"\n",
    "    Analyze all PDFs in a subfolder and save the results to a CSV file.\n",
    "    \"\"\"\n",
    "    results = []\n",
    "    total_files = 0\n",
    "    total_pages = 0\n",
    "    less_than_5_count = 0\n",
    "    greater_than_66_count = 0\n",
    "\n",
    "    for file_name in os.listdir(subfolder_path):\n",
    "        if file_name.endswith(\".pdf\"):\n",
    "            total_files += 1\n",
    "            pdf_file_path = os.path.join(subfolder_path, file_name)\n",
    "            num_pages = get_pdf_page_count(pdf_file_path)\n",
    "\n",
    "            if num_pages is not None:\n",
    "                # Count for summary\n",
    "                total_pages += num_pages\n",
    "                if num_pages < 5:\n",
    "                    less_than_5_count += 1\n",
    "                if num_pages > 66:\n",
    "                    greater_than_66_count += 1\n",
    "\n",
    "                # Append individual file results\n",
    "                results.append({\n",
    "                    \"Blank\": \"\",  # Blank column\n",
    "                    \"File Name\": file_name,\n",
    "                    \"Less Than 5 Pages\": \"Yes\" if num_pages < 5 else \"No\",\n",
    "                    \"Greater Than 66 Pages\": \"Yes\" if num_pages > 66 else \"No\",\n",
    "                    \"Page Count\": num_pages\n",
    "                })\n",
    "\n",
    "    # Add summary row\n",
    "    results.append({\n",
    "        \"Blank\": \"Totals\",\n",
    "        \"File Name\": total_files,\n",
    "        \"Less Than 5 Pages\": less_than_5_count,\n",
    "        \"Greater Than 66 Pages\": greater_than_66_count,\n",
    "        \"Page Count\": total_pages\n",
    "    })\n",
    "\n",
    "    # Save results to CSV\n",
    "    subfolder_name = os.path.basename(subfolder_path)\n",
    "    csv_file_path = os.path.join(output_folder, f\"{subfolder_name}_report.csv\")\n",
    "    with open(csv_file_path, mode=\"w\", newline=\"\", encoding=\"utf-8\") as csvfile:\n",
    "        writer = csv.DictWriter(csvfile, fieldnames=[\"Blank\", \"File Name\", \"Less Than 5 Pages\", \"Greater Than 66 Pages\", \"Page Count\"])\n",
    "        writer.writeheader()\n",
    "        writer.writerows(results)\n",
    "    \n",
    "    print(f\"CSV saved for subfolder '{subfolder_name}': {csv_file_path}\")\n",
    "\n",
    "def process_all_subfolders():\n",
    "    \"\"\"\n",
    "    Process all subfolders in the current directory and generate CSV reports.\n",
    "    \"\"\"\n",
    "    current_directory = os.getcwd()\n",
    "    output_folder = os.path.join(current_directory, \"reports\")\n",
    "    os.makedirs(output_folder, exist_ok=True)\n",
    "\n",
    "    for subfolder_name in os.listdir(current_directory):\n",
    "        subfolder_path = os.path.join(current_directory, subfolder_name)\n",
    "\n",
    "        # Skip if not a directory\n",
    "        if not os.path.isdir(subfolder_path):\n",
    "            continue\n",
    "\n",
    "        print(f\"Processing Subfolder: {subfolder_name}\")\n",
    "        analyze_pdfs_in_subfolder(subfolder_path, output_folder)\n",
    "\n",
    "# Run the function to process all subfolders\n",
    "process_all_subfolders()\n"
   ]
  },
  {
   "cell_type": "code",
   "execution_count": null,
   "metadata": {},
   "outputs": [
    {
     "data": {
      "text/plain": [
       "array([20, 17, 21, 47, 28])"
      ]
     },
     "execution_count": 33,
     "metadata": {},
     "output_type": "execute_result"
    },
    {
     "ename": "",
     "evalue": "",
     "output_type": "error",
     "traceback": [
      "\u001b[1;31mThe Kernel crashed while executing code in the current cell or a previous cell. \n",
      "\u001b[1;31mPlease review the code in the cell(s) to identify a possible cause of the failure. \n",
      "\u001b[1;31mClick <a href='https://aka.ms/vscodeJupyterKernelCrash'>here</a> for more info. \n",
      "\u001b[1;31mView Jupyter <a href='command:jupyter.viewOutput'>log</a> for further details."
     ]
    }
   ],
   "source": [
    "#pages = np.array(total_pages_array)\n",
    "\n",
    "#days = np.ceil(pages/66).astype(int)\n",
    "#days"
   ]
  },
  {
   "cell_type": "code",
   "execution_count": null,
   "metadata": {},
   "outputs": [],
   "source": []
  }
 ],
 "metadata": {
  "kernelspec": {
   "display_name": "base",
   "language": "python",
   "name": "python3"
  },
  "language_info": {
   "codemirror_mode": {
    "name": "ipython",
    "version": 3
   },
   "file_extension": ".py",
   "mimetype": "text/x-python",
   "name": "python",
   "nbconvert_exporter": "python",
   "pygments_lexer": "ipython3",
   "version": "3.12.7"
  }
 },
 "nbformat": 4,
 "nbformat_minor": 2
}
